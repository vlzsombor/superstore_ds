{
 "cells": [
  {
   "cell_type": "code",
   "execution_count": 3,
   "metadata": {},
   "outputs": [],
   "source": [
    "def pearson_correlation(x, y):\n",
    "    if len(x) != len(y):\n",
    "        raise ValueError(\"Lists x and y must have the same length\")\n",
    "\n",
    "    n = len(x)\n",
    "    if n == 0:\n",
    "        raise ValueError(\"Lists must not be empty\")\n",
    "\n",
    "    sum_x = sum(x)\n",
    "    sum_y = sum(y)\n",
    "    sum_xy = sum(x_i * y_i for x_i, y_i in zip(x, y))\n",
    "    sum_x_sq = sum(x_i**2 for x_i in x)\n",
    "    sum_y_sq = sum(y_i**2 for y_i in y)\n",
    "\n",
    "    numerator = sum_xy - (sum_x * sum_y / n)\n",
    "    denominator = ((sum_x_sq - sum_x**2 / n) * (sum_y_sq - sum_y**2 / n))**0.5\n",
    "\n",
    "    if denominator == 0:\n",
    "        raise ValueError(\"Denominator is zero, cannot compute Pearson correlation\")\n",
    "\n",
    "    return numerator / denominator\n"
   ]
  },
  {
   "cell_type": "code",
   "execution_count": 4,
   "metadata": {},
   "outputs": [
    {
     "data": {
      "text/plain": [
       "55"
      ]
     },
     "execution_count": 4,
     "metadata": {},
     "output_type": "execute_result"
    }
   ],
   "source": [
    "\n"
   ]
  },
  {
   "cell_type": "code",
   "execution_count": 5,
   "metadata": {},
   "outputs": [
    {
     "name": "stdout",
     "output_type": "stream",
     "text": [
      "1.0\n",
      "[1, 2, 3, 4, 5]\n"
     ]
    }
   ],
   "source": [
    "x = [1, 2, 3, 4, 5]\n",
    "y = [2, 3, 4, 5, 6]\n",
    "\n",
    "a = pearson_correlation(x,y)\n",
    "a\n",
    "print(a)\n",
    "print(x)"
   ]
  }
 ],
 "metadata": {
  "kernelspec": {
   "display_name": "base",
   "language": "python",
   "name": "python3"
  },
  "language_info": {
   "codemirror_mode": {
    "name": "ipython",
    "version": 3
   },
   "file_extension": ".py",
   "mimetype": "text/x-python",
   "name": "python",
   "nbconvert_exporter": "python",
   "pygments_lexer": "ipython3",
   "version": "3.11.7"
  }
 },
 "nbformat": 4,
 "nbformat_minor": 2
}
